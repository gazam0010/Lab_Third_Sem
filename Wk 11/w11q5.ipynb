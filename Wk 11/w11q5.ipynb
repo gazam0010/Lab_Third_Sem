{
 "cells": [
  {
   "cell_type": "markdown",
   "metadata": {},
   "source": [
    "## Import Libraries\n",
    "Import necessary libraries for data processing, visualization, and model evaluation."
   ]
  },
  {
   "cell_type": "code",
   "execution_count": 1,
   "metadata": {},
   "outputs": [],
   "source": [
    "import pandas as pd \n",
    "import numpy as np\n",
    "import matplotlib.pyplot as plt\n",
    "import seaborn as sns\n",
    "from sklearn.model_selection import train_test_split\n",
    "from sklearn.preprocessing import StandardScaler, OneHotEncoder\n",
    "from sklearn.preprocessing import MinMaxScaler\n",
    "from sklearn.metrics import accuracy_score, f1_score, confusion_matrix"
   ]
  },
  {
   "cell_type": "markdown",
   "metadata": {},
   "source": [
    "## Load Dataset\n",
    "Load the dataset to analyze customer behavior and prepare it for modeling."
   ]
  },
  {
   "cell_type": "code",
   "execution_count": 2,
   "metadata": {},
   "outputs": [
    {
     "name": "stdout",
     "output_type": "stream",
     "text": [
      "Original Dataset:\n",
      "       x1        x2     x3            x4         x5  x6  y\n",
      "0    Male     Rural  46-55  74472.158735  39.799935   8  0\n",
      "1  Female  Suburban  46-55  44027.532707  46.048912   6  0\n",
      "2    Male  Suburban  46-55  61630.676994  45.790177   5  0\n",
      "3    Male  Suburban  46-55  61586.454705  40.940361   8  0\n",
      "4    Male  Suburban  46-55  73810.000736  41.761206   3  0\n"
     ]
    }
   ],
   "source": [
    "data = pd.read_csv('customer_behavior_data.csv')\n",
    "print(\"Original Dataset:\")\n",
    "print(data.head())"
   ]
  },
  {
   "cell_type": "markdown",
   "metadata": {},
   "source": [
    "## Define Independent and Dependent Variables\n",
    "Separate the dataset into:\n",
    "- `X`: Features used for prediction.\n",
    "- `y`: Target variable."
   ]
  },
  {
   "cell_type": "code",
   "execution_count": 3,
   "metadata": {},
   "outputs": [
    {
     "name": "stdout",
     "output_type": "stream",
     "text": [
      "\n",
      "Features (X):\n",
      "       x1        x2     x3            x4         x5  x6\n",
      "0    Male     Rural  46-55  74472.158735  39.799935   8\n",
      "1  Female  Suburban  46-55  44027.532707  46.048912   6\n",
      "2    Male  Suburban  46-55  61630.676994  45.790177   5\n",
      "3    Male  Suburban  46-55  61586.454705  40.940361   8\n",
      "4    Male  Suburban  46-55  73810.000736  41.761206   3\n",
      "\n",
      "Target (y):\n",
      "0    0\n",
      "1    0\n",
      "2    0\n",
      "3    0\n",
      "4    0\n",
      "Name: y, dtype: int64\n"
     ]
    }
   ],
   "source": [
    "X = data.drop('y', axis=1)  # Features\n",
    "y = data['y']               # Target variable\n",
    "print(\"\\nFeatures (X):\")\n",
    "print(X.head())\n",
    "print(\"\\nTarget (y):\")\n",
    "print(y.head())"
   ]
  },
  {
   "cell_type": "markdown",
   "metadata": {},
   "source": [
    "## Create New Feature: `x7`\n",
    "Add a new feature `x7` to enrich the dataset and potentially improve model performance.\n",
    "- `x7` is created as a random variable to provide additional predictive information.\n"
   ]
  },
  {
   "cell_type": "code",
   "execution_count": 4,
   "metadata": {},
   "outputs": [
    {
     "name": "stdout",
     "output_type": "stream",
     "text": [
      "\n",
      "Features after adding x7:\n",
      "       x1        x2     x3            x4         x5  x6        x7\n",
      "0    Male     Rural  46-55  74472.158735  39.799935   8  0.840497\n",
      "1  Female  Suburban  46-55  44027.532707  46.048912   6  0.860528\n",
      "2    Male  Suburban  46-55  61630.676994  45.790177   5  0.295763\n",
      "3    Male  Suburban  46-55  61586.454705  40.940361   8  0.867159\n",
      "4    Male  Suburban  46-55  73810.000736  41.761206   3  0.634484\n"
     ]
    }
   ],
   "source": [
    "X['x7'] = np.random.rand(len(X))\n",
    "print(\"\\nFeatures after adding x7:\")\n",
    "print(X.head())"
   ]
  },
  {
   "cell_type": "markdown",
   "metadata": {},
   "source": [
    "## Handling Range Values and One-Hot Encoding\n",
    "Process categorical features to make them usable for machine learning algorithms:\n",
    "- **Map Ranges to Midpoints**: Convert categorical age ranges (e.g., '18-25') to their midpoint for simplified modeling.\n",
    "- **One-Hot Encoding**: Apply encoding to categorical features to transform them into numeric values.\n"
   ]
  },
  {
   "cell_type": "code",
   "execution_count": 5,
   "metadata": {},
   "outputs": [
    {
     "name": "stdout",
     "output_type": "stream",
     "text": [
      "\n",
      "Features after OneHotEncoding:\n",
      "     x3            x4         x5  x6        x7  x1_Male  x2_Suburban  x2_Urban\n",
      "0  50.5  74472.158735  39.799935   8  0.840497      1.0          0.0       0.0\n",
      "1  50.5  44027.532707  46.048912   6  0.860528      0.0          1.0       0.0\n",
      "2  50.5  61630.676994  45.790177   5  0.295763      1.0          1.0       0.0\n",
      "3  50.5  61586.454705  40.940361   8  0.867159      1.0          1.0       0.0\n",
      "4  50.5  73810.000736  41.761206   3  0.634484      1.0          1.0       0.0\n"
     ]
    },
    {
     "name": "stderr",
     "output_type": "stream",
     "text": [
      "c:\\Python310\\lib\\site-packages\\sklearn\\preprocessing\\_encoders.py:972: FutureWarning: `sparse` was renamed to `sparse_output` in version 1.2 and will be removed in 1.4. `sparse_output` is ignored unless you leave `sparse` to its default value.\n",
      "  warnings.warn(\n"
     ]
    }
   ],
   "source": [
    "age_mapping = {\n",
    "    '18-25': 21.5,\n",
    "    '26-35': 30.5,\n",
    "    '36-45': 40.5,\n",
    "    '46-55': 50.5,\n",
    "    '56+': 60  \n",
    "}\n",
    "\n",
    "# Manually apply OneHotEncoding to categorical features\n",
    "cat_features = X[['x1', 'x2']]  # x1 and x2 are categorical\n",
    "onehot_encoder = OneHotEncoder(sparse=False, drop=\"first\")  # Drop first to avoid dummy variable trap\n",
    "onehot_encoded = onehot_encoder.fit_transform(cat_features)\n",
    "\n",
    "# Create a DataFrame with the new one-hot encoded columns\n",
    "onehot_encoded_df = pd.DataFrame(onehot_encoded, columns=onehot_encoder.get_feature_names_out(['x1', 'x2']))\n",
    "\n",
    "# Concatenate the one-hot encoded columns with the original features (excluding the original categorical columns)\n",
    "X = pd.concat([X.drop(['x1', 'x2'], axis=1).reset_index(drop=True), onehot_encoded_df.reset_index(drop=True)], axis=1)\n",
    "X['x3'] = X['x3'].map(age_mapping)\n",
    "print(\"\\nFeatures after OneHotEncoding:\")\n",
    "print(X.head())"
   ]
  },
  {
   "cell_type": "markdown",
   "metadata": {},
   "source": [
    "## StandardScaler\n",
    "Apply standard scaling to normalize feature values, which can improve model performance by ensuring all features have similar ranges.\n"
   ]
  },
  {
   "cell_type": "code",
   "execution_count": 6,
   "metadata": {},
   "outputs": [
    {
     "name": "stdout",
     "output_type": "stream",
     "text": [
      "\n",
      "Features after scaling:\n",
      "         x3        x4        x5        x6        x7  x1_Male  x2_Suburban  \\\n",
      "0  0.962522  1.011414 -0.607034  1.168505  1.261968      1.0          0.0   \n",
      "1  0.962522 -0.867265 -0.242909  0.365409  1.338228      0.0          1.0   \n",
      "2  0.962522  0.218991 -0.257986 -0.036139 -0.811889      1.0          1.0   \n",
      "3  0.962522  0.216262 -0.540582  1.168505  1.363473      1.0          1.0   \n",
      "4  0.962522  0.970553 -0.492752 -0.839236  0.477658      1.0          1.0   \n",
      "\n",
      "   x2_Urban  \n",
      "0       0.0  \n",
      "1       0.0  \n",
      "2       0.0  \n",
      "3       0.0  \n",
      "4       0.0  \n"
     ]
    }
   ],
   "source": [
    "scaler = StandardScaler()\n",
    "X[['x3', 'x4', 'x5', 'x6', 'x7']] = scaler.fit_transform(X[['x3', 'x4', 'x5', 'x6', 'x7']])\n",
    "print(\"\\nFeatures after scaling:\")\n",
    "print(X.head())\n"
   ]
  },
  {
   "cell_type": "code",
   "execution_count": 7,
   "metadata": {},
   "outputs": [
    {
     "data": {
      "text/plain": [
       "<Axes: >"
      ]
     },
     "execution_count": 7,
     "metadata": {},
     "output_type": "execute_result"
    },
    {
     "data": {
      "image/png": "[encoded data removed]",
      "text/plain": [
       "<Figure size 640x480 with 2 Axes>"
      ]
     },
     "metadata": {},
     "output_type": "display_data"
    }
   ],
   "source": [
    "correlation = X.corr()\n",
    "sns.heatmap(correlation)"
   ]
  },
  {
   "cell_type": "markdown",
   "metadata": {},
   "source": [
    "## Split Dataset\n",
    "Divide the dataset into training and test sets to evaluate model performance on unseen data.\n"
   ]
  },
  {
   "cell_type": "code",
   "execution_count": 8,
   "metadata": {},
   "outputs": [
    {
     "name": "stdout",
     "output_type": "stream",
     "text": [
      "\n",
      "Training Features (X_train):\n",
      "          x3        x4        x5        x6        x7  x1_Male  x2_Suburban  \\\n",
      "55 -1.243178 -0.832305  0.678331  0.365409  0.207081      0.0          0.0   \n",
      "88 -0.558650  1.767165 -1.536387  1.971601 -0.799215      0.0          0.0   \n",
      "26 -1.243178  0.107773 -0.784530 -1.642332  0.186313      0.0          0.0   \n",
      "42 -0.558650  0.000251 -1.950225 -0.839236  1.653591      0.0          0.0   \n",
      "69  0.962522  1.969929  1.860571  0.365409  0.744065      0.0          0.0   \n",
      "\n",
      "    x2_Urban  \n",
      "55       1.0  \n",
      "88       1.0  \n",
      "26       1.0  \n",
      "42       1.0  \n",
      "69       1.0  \n",
      "\n",
      "Testing Features (X_test):\n",
      "          x3        x4        x5        x6        x7  x1_Male  x2_Suburban  \\\n",
      "83 -1.243178  0.509268 -1.040667  0.365409 -0.341661      0.0          0.0   \n",
      "53  0.201936  1.404610 -0.983886  1.168505 -1.814200      0.0          0.0   \n",
      "70  0.201936 -0.992502 -0.312119  1.570053 -0.751381      0.0          0.0   \n",
      "45 -1.243178  1.549872  1.462717  1.570053  0.048984      0.0          1.0   \n",
      "44  1.685078  2.079650  1.622148 -0.437687  0.101093      0.0          0.0   \n",
      "\n",
      "    x2_Urban  \n",
      "83       0.0  \n",
      "53       0.0  \n",
      "70       0.0  \n",
      "45       0.0  \n",
      "44       1.0  \n"
     ]
    }
   ],
   "source": [
    "X_train, X_test, y_train, y_test = train_test_split(X, y, test_size=0.2, random_state=42)\n",
    "print(\"\\nTraining Features (X_train):\")\n",
    "print(X_train.head())\n",
    "print(\"\\nTesting Features (X_test):\")\n",
    "print(X_test.head())"
   ]
  },
  {
   "cell_type": "markdown",
   "metadata": {},
   "source": [
    "## Train, Predict, and Evaluate Model\n",
    "Train the machine learning model on the training set and assess its performance on the test set.\n",
    "- Use evaluation metrics such as accuracy, F1 score, and confusion matrix to analyze results.\n"
   ]
  },
  {
   "cell_type": "code",
   "execution_count": 9,
   "metadata": {},
   "outputs": [
    {
     "name": "stdout",
     "output_type": "stream",
     "text": [
      "Logistic Regression Accuracy: 0.9\n",
      "Logistic Regression F1 Score: 0.9166666666666666\n",
      "[[ 7  2]\n",
      " [ 0 11]]\n",
      "Decision Tree Accuracy: 0.8\n",
      "Decision Tree F1 Score: 0.8333333333333333\n",
      "[[ 6  3]\n",
      " [ 1 10]]\n",
      "Random Forest Accuracy: 0.85\n",
      "Random Forest F1 Score: 0.8695652173913043\n",
      "[[ 7  2]\n",
      " [ 1 10]]\n"
     ]
    }
   ],
   "source": [
    "from sklearn.linear_model import LogisticRegression\n",
    "from sklearn.tree import DecisionTreeClassifier\n",
    "from sklearn.ensemble import RandomForestClassifier\n",
    "\n",
    "# Define models\n",
    "models = {\n",
    "    'Logistic Regression': LogisticRegression(),\n",
    "    'Decision Tree': DecisionTreeClassifier(),\n",
    "    'Random Forest': RandomForestClassifier()\n",
    "}\n",
    "\n",
    "for name, model in models.items():\n",
    "    model.fit(X_train, y_train)  # Train the model\n",
    "    y_pred = model.predict(X_test)  # Make predictions\n",
    "    \n",
    "    accuracy = accuracy_score(y_test, y_pred)\n",
    "    f1 = f1_score(y_test, y_pred)\n",
    "    print(f'{name} Accuracy: {accuracy}')\n",
    "    print(f'{name} F1 Score: {f1}')\n",
    "    \n",
    "    # Confusion matrix\n",
    "    cm = confusion_matrix(y_test, y_pred)\n",
    "    # sns.heatmap(cm, annot=True, fmt='d')\n",
    "    # plt.title(f'{name} Confusion Matrix')\n",
    "    # plt.xlabel('Predicted')\n",
    "    # plt.ylabel('True')\n",
    "    # plt.show()\n",
    "    print(cm)\n"
   ]
  }
 ],
 "metadata": {
  "kernelspec": {
   "display_name": "Python 3",
   "language": "python",
   "name": "python3"
  },
  "language_info": {
   "codemirror_mode": {
    "name": "ipython",
    "version": 3
   },
   "file_extension": ".py",
   "mimetype": "text/x-python",
   "name": "python",
   "nbconvert_exporter": "python",
   "pygments_lexer": "ipython3",
   "version": "3.10.6"
  }
 },
 "nbformat": 4,
 "nbformat_minor": 2
}
